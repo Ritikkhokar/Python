{
 "cells": [
  {
   "cell_type": "code",
   "execution_count": 1,
   "id": "715dea50-e691-40d1-b228-e5ae8cd1694b",
   "metadata": {},
   "outputs": [
    {
     "name": "stdout",
     "output_type": "stream",
     "text": [
      "git is starting\n"
     ]
    }
   ],
   "source": [
    "print('git is starting')"
   ]
  },
  {
   "cell_type": "code",
   "execution_count": 2,
   "id": "1a76fa40-1055-4d2f-b2e8-5833c96361e9",
   "metadata": {},
   "outputs": [
    {
     "name": "stdout",
     "output_type": "stream",
     "text": [
      "you are cute\n"
     ]
    }
   ],
   "source": [
    "print('you are cute')"
   ]
  },
  {
   "cell_type": "code",
   "execution_count": null,
   "id": "7bb55cd1-0583-411f-bda7-d0edbafae4d3",
   "metadata": {},
   "outputs": [],
   "source": []
  }
 ],
 "metadata": {
  "kernelspec": {
   "display_name": "Python 3 (ipykernel)",
   "language": "python",
   "name": "python3"
  },
  "language_info": {
   "codemirror_mode": {
    "name": "ipython",
    "version": 3
   },
   "file_extension": ".py",
   "mimetype": "text/x-python",
   "name": "python",
   "nbconvert_exporter": "python",
   "pygments_lexer": "ipython3",
   "version": "3.11.7"
  }
 },
 "nbformat": 4,
 "nbformat_minor": 5
}
